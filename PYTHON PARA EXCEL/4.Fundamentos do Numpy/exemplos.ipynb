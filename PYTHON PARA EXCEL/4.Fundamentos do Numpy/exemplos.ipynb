{
 "cells": [
  {
   "cell_type": "code",
   "execution_count": 4,
   "metadata": {},
   "outputs": [
    {
     "name": "stdout",
     "output_type": "stream",
     "text": [
      "Minha idade é 24\n"
     ]
    }
   ],
   "source": [
    "print(\"Minha idade é\" , 24)"
   ]
  },
  {
   "cell_type": "code",
   "execution_count": 5,
   "metadata": {},
   "outputs": [
    {
     "name": "stdout",
     "output_type": "stream",
     "text": [
      "minha idade é: 24\n"
     ]
    }
   ],
   "source": [
    "var = 24\n",
    "print(\"minha idade é:\", var) # obtem um erro pois não se pode concatenar str(string) com int(inteiro)"
   ]
  },
  {
   "cell_type": "code",
   "execution_count": 6,
   "metadata": {},
   "outputs": [
    {
     "name": "stdout",
     "output_type": "stream",
     "text": [
      "Minha idade é: 24\n"
     ]
    }
   ],
   "source": [
    "# Transformando o tipo int para str dá na mesma\n",
    "print(\"Minha idade é:\", str(var))"
   ]
  },
  {
   "cell_type": "code",
   "execution_count": 19,
   "metadata": {},
   "outputs": [
    {
     "name": "stdout",
     "output_type": "stream",
     "text": [
      "['2A', '2B', '2C']\n"
     ]
    }
   ],
   "source": [
    "numero = 2 # Variável numérica (int)\n",
    "letras = [\"A\", \"B\", \"C\"] # Lista (str)\n",
    "\n",
    "turmas = [] # Vai receber o nome das turmas\n",
    "\n",
    "for i in letras:\n",
    "    turmas.append(str(numero)+i) # Criei um laço que percorre toda a lista juntando o número 2 com as letras\n",
    "\n",
    "\n",
    "print(turmas)"
   ]
  },
  {
   "cell_type": "code",
   "execution_count": 27,
   "metadata": {},
   "outputs": [
    {
     "data": {
      "text/plain": [
       "str"
      ]
     },
     "execution_count": 27,
     "metadata": {},
     "output_type": "execute_result"
    }
   ],
   "source": [
    "\"\"\"\n",
    "x = \"10\"\n",
    "y = 5\n",
    "\n",
    "print(x * y)\n",
    "print(\"10\" * 5)\n",
    "\"\"\"\n",
    "a = \"ABC\"\n",
    "type(a)"
   ]
  },
  {
   "cell_type": "code",
   "execution_count": 36,
   "metadata": {},
   "outputs": [
    {
     "data": {
      "text/plain": [
       "tuple"
      ]
     },
     "execution_count": 36,
     "metadata": {},
     "output_type": "execute_result"
    }
   ],
   "source": [
    "a = (\"1\", 1)\n",
    "type(a)"
   ]
  },
  {
   "cell_type": "code",
   "execution_count": null,
   "metadata": {},
   "outputs": [],
   "source": []
  },
  {
   "cell_type": "code",
   "execution_count": null,
   "metadata": {},
   "outputs": [],
   "source": []
  }
 ],
 "metadata": {
  "kernelspec": {
   "display_name": "Python 3",
   "language": "python",
   "name": "python3"
  },
  "language_info": {
   "codemirror_mode": {
    "name": "ipython",
    "version": 3
   },
   "file_extension": ".py",
   "mimetype": "text/x-python",
   "name": "python",
   "nbconvert_exporter": "python",
   "pygments_lexer": "ipython3",
   "version": "3.12.5"
  }
 },
 "nbformat": 4,
 "nbformat_minor": 2
}
