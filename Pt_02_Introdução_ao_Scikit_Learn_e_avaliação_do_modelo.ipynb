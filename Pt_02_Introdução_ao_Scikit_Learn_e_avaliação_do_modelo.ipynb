{
  "nbformat": 4,
  "nbformat_minor": 0,
  "metadata": {
    "colab": {
      "provenance": [],
      "mount_file_id": "1SMqIM5mSbm3PxjUfesSQ36lL8zVcIRyP",
      "authorship_tag": "ABX9TyP/XSk4nK+kH86iVjc/0Hda"
    },
    "kernelspec": {
      "name": "python3",
      "display_name": "Python 3"
    },
    "language_info": {
      "name": "python"
    }
  },
  "cells": [
    {
      "cell_type": "markdown",
      "source": [
        "## Por onde vamos começar?\n",
        "\n",
        "Continuaremos nossa análise exploratória enquanto examinamos uma **variável aleatória**. Daremos prioridade para soluções movidas por modelos de machine learning, atrelados à pacotes relacionais a na área; vamos conhecer técnicas para avaliar nossos modelos de predição. \n",
        "\n",
        "Por fim, levaremos para o plano empresarial, focando na análise financeira."
      ],
      "metadata": {
        "id": "Uvp1aJBLpqge"
      }
    },
    {
      "cell_type": "markdown",
      "source": [
        "## Examinando a variável de resposta e concluindo a exploração inicial\n",
        "\n",
        "A variável de resposta, para o nosso problema, ele é uma flag binária indicando se uma conta ou não ficará ou não inadimplente no próximo mês, que seria outubro no histórico do dataset.\n",
        "\n",
        "Criaremos um modelo preditivo de **classificação binária**, ou seja, uma classe positiva e outra negativa."
      ],
      "metadata": {
        "id": "SElBmHiSrmQl"
      }
    },
    {
      "cell_type": "markdown",
      "source": [
        "### Bibliotecas e funções de visualização"
      ],
      "metadata": {
        "id": "04zcCBRZwKBl"
      }
    },
    {
      "cell_type": "code",
      "execution_count": 1,
      "metadata": {
        "id": "CZ6j6uZ1onKm"
      },
      "outputs": [],
      "source": [
        "import numpy as np\n",
        "import pandas as pd\n",
        "import matplotlib.pyplot as plt\n",
        "import matplotlib as mlp\n",
        "from sklearn.linear_model import LogisticRegression"
      ]
    },
    {
      "cell_type": "code",
      "source": [
        "%matplotlib inline"
      ],
      "metadata": {
        "id": "3QXPuoFwukt3"
      },
      "execution_count": 2,
      "outputs": []
    },
    {
      "cell_type": "code",
      "source": [
        "mlp.rcParams['figure.dpi'] = 400\n",
        "mlp.rcParams['figure.figsize'] = [20, 10]"
      ],
      "metadata": {
        "id": "2-0KQvnFus2s"
      },
      "execution_count": 3,
      "outputs": []
    },
    {
      "cell_type": "markdown",
      "source": [
        "O nosso objetivo é encontrar a proporção da classe positiva, obtendo a média da variável de resposta no dataset inteiro. Ela é a interpretação da taxa de inadimplência."
      ],
      "metadata": {
        "id": "ckZKmy3-wGgr"
      }
    },
    {
      "cell_type": "code",
      "source": [
        "from locale import normalize\n",
        "df = pd.read_csv('/content/drive/MyDrive/DADOS/dados_limpos_usuarios_de_credito_DATACLEAN.csv')\n",
        "df.groupby('default payment next month')['ID'].count()"
      ],
      "metadata": {
        "colab": {
          "base_uri": "https://localhost:8080/"
        },
        "id": "bsga4CUUu3hm",
        "outputId": "2828a491-d3d2-45bf-f4a2-6facf1328168"
      },
      "execution_count": 4,
      "outputs": [
        {
          "output_type": "execute_result",
          "data": {
            "text/plain": [
              "default payment next month\n",
              "0    20750\n",
              "1     5914\n",
              "Name: ID, dtype: int64"
            ]
          },
          "metadata": {},
          "execution_count": 4
        }
      ]
    },
    {
      "cell_type": "markdown",
      "source": [
        "A obtenção da média da coluna acima é de 22% para nossa classe positiva (inadimplência = 1). Essa é uma proporção da amostra também conhecida como **fração da classe**.\n",
        "\n",
        "Na classificação binária, os datasets são descritos considerando se eles são **balanceados** ou **desbalanceados**: as proporções de amostras positivas e negativas são simétricas?\n",
        "\n",
        "Geralmente, a maioria dos modelos de classificação de machine learning são progetadas para operarem com dados balanceados: uma divisão 50/50 entre as classes.\n",
        "\n",
        "No entanto, raramente os dados são balanceados na vida real. Mas não quer dizer que não haja métodos que lidam com dados desbalanceados.Tais como:\n",
        "\n",
        "* **Subamostragem (undersampling)**: da classe majogitária: eliminar aleatóriamente amostras da classe majoritária até as frações das classses serem iguais, ou no mínimo serem menos desbalanceadas;\n",
        "* **Sobreamostragem (oversampling)**: da classe minoritária: adicionar aleatóriamente amostras duplicadas da classe minoritária para atingir o mesmo objetivo;\n",
        "* **Ponderação de amostras (weighting samples)**: esse método é executado como parte da etapa de treinamento, para que a classe minoritária receba coletivamente a mesma \"ênfase\" da classe majoritária no modelo ajustado. O efeito é semelhante ao do oversampling.\n",
        "\n",
        "Embora nossos dados não estejam balanceados, é bom ressaltar que uma fração pequena, que seja abaixo de 50%, não é particularmente um desbalanceamento. Normalmente, algumas áreas, como a detecção de fraudes, lidam com frações de classes positivas na ordem de 1% ou menos. Isso ocorre porque a proporção de \"malfeitores\" é muito pequena em comparação com o conjunto total de transações; ao mesmo tempo, é importante identificá-los se possível.\n",
        "\n",
        "À medida que criamos modelos e geramos novos resultados, é recomendável pensar no que esses resultados informam sobre os dados, o que em geral requer uma volta rápida à fase de exploração.\n",
        "\n",
        "E para essa volta de exploração, vamos focar em **examinar o relacionamento entre os atributos e as respostas.**\n",
        "\n",
        "Agora uma boa prática como profissional na área de ciencia de dados. Em uma fase de relacionar atributos e respostas, tenha em mente essas seguintes perguntas:\n",
        "\n",
        "* Os dados estão completos? **Há valores ausentes, anomalias ou dicrepâncias?**\n",
        "* Os dados são consistentes? **A distribuição muda com o tempo? Essa mudança tem alguma relação?**\n",
        "* Os dados como um todo fazem sentido? **Os valores das características correspondem à sua definição no dicionário de dados?**\n",
        "\n",
        "Respostas insatisfatórias em qualquer uma dessas perguntas devem ser corrigidas antes do projeto dar continuidade."
      ],
      "metadata": {
        "id": "FYX8qKKeyB5L"
      }
    },
    {
      "cell_type": "markdown",
      "source": [
        "## Criando modelos de machine learning com o pacote SCIKIT-LEARN\n",
        "\n",
        "Vamos começar com um dos modelos de classificação mais importantes por sua praticidade e interpretabilidade, a **regressão logística**. Vamos instanciá-lo a partir da classe fornecida pelo scikit-learn. Isso significa dizer que você estará obtendo o blueprint do modelo e criando um modelo útil a partir dele. "
      ],
      "metadata": {
        "id": "8oLnVeQcQgGo"
      }
    },
    {
      "cell_type": "code",
      "source": [
        "# criando um objeto, configurando os parâmetros e guardando em uma variável\n",
        "my_lr = LogisticRegression(C= 0.1,\n",
        "                           class_weight= None,\n",
        "                           dual= False,\n",
        "                           fit_intercept= True,\n",
        "                           intercept_scaling= 1,\n",
        "                           max_iter= 100,\n",
        "                           multi_class= 'warn',\n",
        "                           n_jobs= None,\n",
        "                           penalty= 'l2',\n",
        "                           random_state= None,\n",
        "                           solver= 'liblinear',\n",
        "                           tol= 0.0001,\n",
        "                           verbose= 0,\n",
        "                           warm_start= False) \n",
        "my_lr"
      ],
      "metadata": {
        "colab": {
          "base_uri": "https://localhost:8080/"
        },
        "id": "JM7Sxc4Dvz2f",
        "outputId": "4bd76037-7214-4042-ee97-b7cc3e69f2f2"
      },
      "execution_count": 8,
      "outputs": [
        {
          "output_type": "execute_result",
          "data": {
            "text/plain": [
              "LogisticRegression(C=0.1, multi_class='warn', solver='liblinear')"
            ]
          },
          "metadata": {},
          "execution_count": 8
        }
      ]
    },
    {
      "cell_type": "code",
      "source": [],
      "metadata": {
        "id": "91Ks69JsVzx7"
      },
      "execution_count": null,
      "outputs": []
    }
  ]
}