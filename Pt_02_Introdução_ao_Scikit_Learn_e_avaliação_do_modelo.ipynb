{
  "nbformat": 4,
  "nbformat_minor": 0,
  "metadata": {
    "colab": {
      "provenance": [],
      "mount_file_id": "1SMqIM5mSbm3PxjUfesSQ36lL8zVcIRyP",
      "authorship_tag": "ABX9TyMu5+CS93iITsxWUdI2GPfe"
    },
    "kernelspec": {
      "name": "python3",
      "display_name": "Python 3"
    },
    "language_info": {
      "name": "python"
    }
  },
  "cells": [
    {
      "cell_type": "markdown",
      "source": [
        "## Por onde vamos começar?\n",
        "\n",
        "Continuaremos nossa análise exploratória enquanto examinamos uma **variável aleatória**. Daremos prioridade para soluções movidas por modelos de machine learning, atrelados à pacotes relacionais a na área; vamos conhecer técnicas para avaliar nossos modelos de predição. \n",
        "\n",
        "Por fim, levaremos para o plano empresarial, focando na análise financeira."
      ],
      "metadata": {
        "id": "Uvp1aJBLpqge"
      }
    },
    {
      "cell_type": "markdown",
      "source": [
        "## Examinando a variável de resposta e concluindo a exploração inicial\n",
        "\n",
        "A variável de resposta, para o nosso problema, ele é uma flag binária indicando se uma conta ou não ficará ou não inadimplente no próximo mês, que seria outubro no histórico do dataset.\n",
        "\n",
        "Criaremos um modelo preditivo de **classificação binária**, ou seja, uma classe positiva e outra negativa."
      ],
      "metadata": {
        "id": "SElBmHiSrmQl"
      }
    },
    {
      "cell_type": "markdown",
      "source": [
        "### Bibliotecas e funções de visualização"
      ],
      "metadata": {
        "id": "04zcCBRZwKBl"
      }
    },
    {
      "cell_type": "code",
      "execution_count": 1,
      "metadata": {
        "id": "CZ6j6uZ1onKm"
      },
      "outputs": [],
      "source": [
        "import numpy as np\n",
        "import pandas as pd\n",
        "import matplotlib.pyplot as plt\n",
        "import matplotlib as mlp"
      ]
    },
    {
      "cell_type": "code",
      "source": [
        "%matplotlib inline"
      ],
      "metadata": {
        "id": "3QXPuoFwukt3"
      },
      "execution_count": 2,
      "outputs": []
    },
    {
      "cell_type": "code",
      "source": [
        "mlp.rcParams['figure.dpi'] = 400\n",
        "mlp.rcParams['figure.figsize'] = [20, 10]"
      ],
      "metadata": {
        "id": "2-0KQvnFus2s"
      },
      "execution_count": 4,
      "outputs": []
    },
    {
      "cell_type": "markdown",
      "source": [
        "O nosso objetivo é encontrar a proporção da classe positiva, obtendo a média da variável de resposta no dataset inteiro. Ela é a interpretação da taxa de inadimplência."
      ],
      "metadata": {
        "id": "ckZKmy3-wGgr"
      }
    },
    {
      "cell_type": "code",
      "source": [
        "from locale import normalize\n",
        "df = pd.read_csv('/content/drive/MyDrive/DADOS/dados_limpos_usuarios_de_credito_DATACLEAN.csv')\n",
        "df.groupby('default payment next month')['ID'].count()"
      ],
      "metadata": {
        "colab": {
          "base_uri": "https://localhost:8080/"
        },
        "id": "bsga4CUUu3hm",
        "outputId": "493b22ca-f638-4ac3-e4fc-d8a9521f870b"
      },
      "execution_count": 9,
      "outputs": [
        {
          "output_type": "execute_result",
          "data": {
            "text/plain": [
              "default payment next month\n",
              "0    20750\n",
              "1     5914\n",
              "Name: ID, dtype: int64"
            ]
          },
          "metadata": {},
          "execution_count": 9
        }
      ]
    },
    {
      "cell_type": "markdown",
      "source": [
        "A obtenção da média da coluna acima é de 22% para nossa classe positiva (inadimplência = 1). Essa é uma proporção da amostra também conhecida como **fração da classe**.\n",
        "\n",
        "Na classificação binária, os datasets são descritos considerando se eles são **balanceados** ou **desbalanceados**: as proporções de amostras positivas e negativas são simétricas?\n",
        "\n",
        "Geralmente, a maioria dos modelos de classificação de machine learning é progetada é projetada para operar com dados balanceados: uma divisão 50/50 entre as classes.\n",
        "\n",
        "No entanto, raramente os dados são balanceados na vida real. Mas não quer dizer que não haja métodos que lidam com dados desbalanceados.Tais como:\n",
        "\n",
        "* **Subamostragem (undersampling)**: \n",
        "* **Sobreamostragem (oversampling)**:\n",
        "* **Ponderação de amostras (weighting samples)**:"
      ],
      "metadata": {
        "id": "FYX8qKKeyB5L"
      }
    },
    {
      "cell_type": "code",
      "source": [],
      "metadata": {
        "id": "JM7Sxc4Dvz2f"
      },
      "execution_count": null,
      "outputs": []
    }
  ]
}