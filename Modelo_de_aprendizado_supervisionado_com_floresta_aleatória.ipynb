{
  "nbformat": 4,
  "nbformat_minor": 0,
  "metadata": {
    "colab": {
      "provenance": [],
      "authorship_tag": "ABX9TyNk3PcVPGvPhNPLPW0UL7Jr"
    },
    "kernelspec": {
      "name": "python3",
      "display_name": "Python 3"
    },
    "language_info": {
      "name": "python"
    }
  },
  "cells": [
    {
      "cell_type": "markdown",
      "source": [
        "## Carregando seus dados"
      ],
      "metadata": {
        "id": "feWIVawF_xa2"
      }
    },
    {
      "cell_type": "code",
      "execution_count": 22,
      "metadata": {
        "id": "SfpeCMbl_vsm"
      },
      "outputs": [],
      "source": [
        "from sklearn.datasets import load_iris\n",
        "from sklearn.ensemble import RandomForestClassifier\n",
        "from sklearn.model_selection import train_test_split\n",
        "from sklearn import metrics"
      ]
    },
    {
      "cell_type": "code",
      "source": [
        "iris = load_iris()"
      ],
      "metadata": {
        "id": "M4yuzqwoAvO2"
      },
      "execution_count": 23,
      "outputs": []
    },
    {
      "cell_type": "code",
      "source": [
        "# criando uma instância do classificador\n",
        "rf = RandomForestClassifier(n_estimators= 15,\n",
        "                            random_state= 111)"
      ],
      "metadata": {
        "id": "qEEN8RI5Azc0"
      },
      "execution_count": 24,
      "outputs": []
    },
    {
      "cell_type": "code",
      "source": [
        "# executando os dados de treinamento\n",
        "X_train, X_test, y_train, y_test = train_test_split(iris['data'],\n",
        "                                                    iris['target'],\n",
        "                                                    test_size= 0.10,\n",
        "                                                    random_state= 111)\n",
        "\n",
        "rf = rf.fit(X_train, y_train)"
      ],
      "metadata": {
        "id": "KDIodcXUBRhL"
      },
      "execution_count": 25,
      "outputs": []
    },
    {
      "cell_type": "code",
      "source": [
        "# executando os dados de teste\n",
        "predicted = rf.predict(X_test)\n",
        "predicted"
      ],
      "metadata": {
        "colab": {
          "base_uri": "https://localhost:8080/"
        },
        "id": "xVvuSggECPQT",
        "outputId": "36622d18-73ea-49c6-974c-c0d586abcea1"
      },
      "execution_count": 26,
      "outputs": [
        {
          "output_type": "execute_result",
          "data": {
            "text/plain": [
              "array([0, 0, 2, 2, 2, 0, 0, 2, 2, 1, 2, 0, 1, 2, 2])"
            ]
          },
          "metadata": {},
          "execution_count": 26
        }
      ]
    },
    {
      "cell_type": "code",
      "source": [
        "print(predicted)\n",
        "print(y_test)"
      ],
      "metadata": {
        "colab": {
          "base_uri": "https://localhost:8080/"
        },
        "id": "WAIstI_9EDZt",
        "outputId": "299fbccc-cc95-45a7-9933-88ef16dcf104"
      },
      "execution_count": 27,
      "outputs": [
        {
          "output_type": "stream",
          "name": "stdout",
          "text": [
            "[0 0 2 2 2 0 0 2 2 1 2 0 1 2 2]\n",
            "[0 0 2 2 1 0 0 2 2 1 2 0 2 2 2]\n"
          ]
        }
      ]
    },
    {
      "cell_type": "code",
      "source": [
        "print(f\"{metrics.accuracy_score(y_test, predicted).round(4) * 100}%\")"
      ],
      "metadata": {
        "colab": {
          "base_uri": "https://localhost:8080/"
        },
        "id": "gbHkm9t5Eb60",
        "outputId": "17082c66-76c8-4701-914a-2a679381929f"
      },
      "execution_count": 28,
      "outputs": [
        {
          "output_type": "stream",
          "name": "stdout",
          "text": [
            "86.67%\n"
          ]
        }
      ]
    },
    {
      "cell_type": "code",
      "source": [
        "predicted == y_test"
      ],
      "metadata": {
        "colab": {
          "base_uri": "https://localhost:8080/"
        },
        "id": "BDGEsf22Er99",
        "outputId": "bf59e2f1-f169-460c-b899-8f6094ff393c"
      },
      "execution_count": 29,
      "outputs": [
        {
          "output_type": "execute_result",
          "data": {
            "text/plain": [
              "array([ True,  True,  True,  True, False,  True,  True,  True,  True,\n",
              "        True,  True,  True, False,  True,  True])"
            ]
          },
          "metadata": {},
          "execution_count": 29
        }
      ]
    },
    {
      "cell_type": "code",
      "source": [
        "# alterando o n_estimators para 150 (o resultado não altera)\n",
        "rf = RandomForestClassifier(n_estimators= 15,\n",
        "                            random_state= 111)\n",
        "\n",
        "X_train, X_test, y_train, y_test = train_test_split(iris['data'],\n",
        "                                                    iris['target'],\n",
        "                                                    test_size= 0.10,\n",
        "                                                    random_state= 111)\n",
        "\n",
        "rf = rf.fit(X_train, y_train)\n",
        "\n",
        "predicted = rf.predict(X_test)\n",
        "\n",
        "print(predicted)\n",
        "print(f\"{metrics.accuracy_score(y_test, predicted).round(4) * 100}%\")"
      ],
      "metadata": {
        "colab": {
          "base_uri": "https://localhost:8080/"
        },
        "id": "-Ip0NdXTFJlk",
        "outputId": "8f3ee568-5a63-46c4-cd3d-7b058225b56b"
      },
      "execution_count": 30,
      "outputs": [
        {
          "output_type": "stream",
          "name": "stdout",
          "text": [
            "[0 0 2 2 2 0 0 2 2 1 2 0 1 2 2]\n",
            "86.67%\n"
          ]
        }
      ]
    }
  ]
}