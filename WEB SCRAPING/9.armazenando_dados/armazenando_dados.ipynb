{
 "cells": [
  {
   "cell_type": "markdown",
   "metadata": {},
   "source": [
    "# Bibliotecas"
   ]
  },
  {
   "cell_type": "code",
   "execution_count": 2,
   "metadata": {},
   "outputs": [],
   "source": [
    "import os\n",
    "import csv\n",
    "from urllib.request import urlretrieve, urlopen\n",
    "from urllib.parse import urlparse\n",
    "from bs4 import BeautifulSoup"
   ]
  },
  {
   "cell_type": "markdown",
   "metadata": {},
   "source": [
    "# Arquivos de mídia"
   ]
  },
  {
   "cell_type": "code",
   "execution_count": 3,
   "metadata": {},
   "outputs": [],
   "source": [
    "# html = urlopen('http://www.pythonscraping.com')\n",
    "# bs = BeautifulSoup(html, 'html.parser')\n",
    "# imageLocation = bs.find('img', {'alt' : 'python-logo'})['src']\n",
    "# urlretrieve(imageLocation, 'logoPython.jpg')"
   ]
  },
  {
   "cell_type": "code",
   "execution_count": 4,
   "metadata": {},
   "outputs": [],
   "source": [
    "# downloadDir = 'downloaded'\n",
    "# baseUrl = 'https://pythonscraping.com/'\n",
    "# baseNetloc = urlparse(baseUrl).netloc\n",
    "\n",
    "# def getAbsoluteURL(source):\n",
    "#     if urlparse(baseUrl).netloc == '':\n",
    "#         return baseUrl + source\n",
    "#     return source\n",
    "\n",
    "# def getDownloadPath(fileUrl):\n",
    "#     parsed      = urlparse(fileUrl)\n",
    "#     netloc      = parsed.netloc.strip('/')\n",
    "#     path        = parsed.path.strip('/')\n",
    "#     localfile   = f'{downloadDir}/{netloc}/{path}'\n",
    "\n",
    "#     # Remova o nome de arquivo do caminho para preservar\n",
    "#     # apenas a estrutura do diretório que leva até ele.\n",
    "#     localpath = '/'.join(localfile.split('/')[:-1])\n",
    "#     if not os.path.exists(localpath):\n",
    "#         os.makedirs(localpath)\n",
    "#     return localfile\n",
    "\n",
    "\n",
    "# html         = urlopen(baseUrl)\n",
    "# bs           = BeautifulSoup(html, 'html.parser')\n",
    "# downloadList = bs.findAll(src= True)\n",
    "\n",
    "# for download in downloadList:\n",
    "#     fileUrl = getAbsoluteURL(download['src'])\n",
    "#     if fileUrl is not None:\n",
    "#         try:\n",
    "#             urlretrieve(fileUrl, getDownloadPath(fileUrl))\n",
    "#             print(fileUrl)\n",
    "#         except Exception as e:\n",
    "#             print(f\"Could not retrieve {fileUrl} error: {e}\")"
   ]
  },
  {
   "cell_type": "code",
   "execution_count": 5,
   "metadata": {},
   "outputs": [],
   "source": [
    "# csvFile = open('test.csv', 'w+')\n",
    "# try:\n",
    "#     writer = csv.writer(csvFile)\n",
    "#     writer.writerow(('number', 'number plus 2', 'number times 2'))\n",
    "#     for i in range(10):\n",
    "#         writer.writerow((i, i+2, i*2))\n",
    "# finally:\n",
    "#     csvFile.close()"
   ]
  },
  {
   "cell_type": "code",
   "execution_count": null,
   "metadata": {},
   "outputs": [],
   "source": [
    "html = urlopen('https://en.wikipedia.org/wiki/List_of_countries_with_McDonald%27s_restaurants')\n",
    "bs = BeautifulSoup(html, 'html.parser')\n",
    "# A tabela de comparação principal é atualmente a primeira tabela da página\n",
    "table = bs.find('table', {'class' : 'wikitable'})\n",
    "rows = table.findAll('tr')\n",
    "csvFile = open('countries.csv', 'wt+')\n",
    "writer = csv.writer(csvFile)\n",
    "try:\n",
    "    for row in rows:\n",
    "        csvRow = []\n",
    "        for cell in row.findAll(['td', 'th']):\n",
    "            csvRow.append(cell.get_text().strip())\n",
    "        writer.writerow(csvRow)\n",
    "finally:\n",
    "    csvFile.close()"
   ]
  },
  {
   "cell_type": "code",
   "execution_count": null,
   "metadata": {},
   "outputs": [],
   "source": []
  }
 ],
 "metadata": {
  "kernelspec": {
   "display_name": "Python 3",
   "language": "python",
   "name": "python3"
  },
  "language_info": {
   "codemirror_mode": {
    "name": "ipython",
    "version": 3
   },
   "file_extension": ".py",
   "mimetype": "text/x-python",
   "name": "python",
   "nbconvert_exporter": "python",
   "pygments_lexer": "ipython3",
   "version": "3.12.5"
  }
 },
 "nbformat": 4,
 "nbformat_minor": 2
}
